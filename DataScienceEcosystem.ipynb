{
 "cells": [
  {
   "cell_type": "markdown",
   "id": "9462f47e-d518-4aa9-9a2a-a68936d4ea9c",
   "metadata": {},
   "source": [
    "# Data Science Tools and Ecosystem"
   ]
  },
  {
   "cell_type": "markdown",
   "id": "2c514545-5301-4a07-927e-c2784169c115",
   "metadata": {},
   "source": [
    "In this notebook, Data Science Tools and Ecosystem are summarized. "
   ]
  },
  {
   "cell_type": "markdown",
   "id": "12cf3290-7fd1-4d3c-875b-cf9ec71a74e9",
   "metadata": {},
   "source": [
    "**Objectives:** Popular languages in Data Scientists, Commonly used libraries in Data Scientists , Data Science tools\n",
    "\n",
    "## Author : Reginal Supoint Jr"
   ]
  },
  {
   "cell_type": "markdown",
   "id": "c796da9e-9063-41e2-b593-5c2807123f25",
   "metadata": {},
   "source": [
    "Some of the popular languages that Data Scientists use are \n",
    "1. Python\n",
    "2. R\n",
    "3. SQL "
   ]
  },
  {
   "cell_type": "code",
   "execution_count": null,
   "id": "8c9b78f3-555b-47a3-a0a6-2b2f8bab2cdb",
   "metadata": {},
   "outputs": [],
   "source": [
    "Some of the commonly used libraries used by Data Scientists include:\n",
    "1. ggplot2\n",
    "2. tensorflow\n",
    "3. seaborn"
   ]
  },
  {
   "cell_type": "code",
   "execution_count": null,
   "id": "9e019370-9141-435b-b54b-02095186f00d",
   "metadata": {},
   "outputs": [],
   "source": [
    "| Data Science Tools|\n",
    "|:--------:|\n",
    "| Juptyer| \n",
    "| GitHub | \n",
    "| Spyder |"
   ]
  },
  {
   "cell_type": "markdown",
   "id": "3217f1d9-cd7b-400b-9d9a-f331e036adb5",
   "metadata": {},
   "source": [
    "### Below are a few examples of evaluating arithmetic expressions in Python"
   ]
  },
  {
   "cell_type": "code",
   "execution_count": 6,
   "id": "71399af9-5efb-4081-996b-753a1e4f2425",
   "metadata": {},
   "outputs": [
    {
     "data": {
      "text/plain": [
       "17"
      ]
     },
     "execution_count": 6,
     "metadata": {},
     "output_type": "execute_result"
    }
   ],
   "source": [
    "(3*4)+5\n",
    "# This a simple arithmetic expression to multiply then add integers/ "
   ]
  },
  {
   "cell_type": "code",
   "execution_count": 8,
   "id": "63a827b7-ad26-44ed-bc16-103079955222",
   "metadata": {},
   "outputs": [
    {
     "data": {
      "text/plain": [
       "3.3333333333333335"
      ]
     },
     "execution_count": 8,
     "metadata": {},
     "output_type": "execute_result"
    }
   ],
   "source": [
    "200 / 60\n",
    "# This will convert minutes to hours by dividing by 60. "
   ]
  },
  {
   "cell_type": "code",
   "execution_count": null,
   "id": "e2e39526-7745-4522-9223-0c1795f556ab",
   "metadata": {
    "jupyter": {
     "source_hidden": true
    }
   },
   "outputs": [],
   "source": []
  }
 ],
 "metadata": {
  "kernelspec": {
   "display_name": "Python [conda env:base] *",
   "language": "python",
   "name": "conda-base-py"
  },
  "language_info": {
   "codemirror_mode": {
    "name": "ipython",
    "version": 3
   },
   "file_extension": ".py",
   "mimetype": "text/x-python",
   "name": "python",
   "nbconvert_exporter": "python",
   "pygments_lexer": "ipython3",
   "version": "3.12.7"
  }
 },
 "nbformat": 4,
 "nbformat_minor": 5
}
